{
 "cells": [],
 "metadata": {
  "interpreter": {
   "hash": "2bac4c1f3a24463c6a77032a6d62a84c0a0ad30a2ba2915f796e5a1ef75fb3df"
  },
  "kernelspec": {
   "display_name": "Python 3.9.12 ('base')",
   "language": "python",
   "name": "python3"
  },
  "language_info": {
   "name": "python",
   "version": "3.9.12"
  },
  "orig_nbformat": 4
 },
 "nbformat": 4,
 "nbformat_minor": 2
}
